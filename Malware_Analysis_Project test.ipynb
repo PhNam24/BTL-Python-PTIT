{
 "cells": [
  {
   "cell_type": "code",
   "execution_count": null,
   "metadata": {},
   "outputs": [],
   "source": [
    "import xml.etree.ElementTree as ET\n",
    "# Liệt kê tất cả quyền truy cập ác tính trong tập file xml\n",
    "mal_permission = []\n",
    "# Lưu trữ các quyền độc hại từ các tệp Manifest XML\n",
    "counter=0\n",
    "# Từ điển ánh xạ tên của quyền (permission) với chỉ số (index) tương ứng\n",
    "index_permission = {}\n",
    "#MALICIUS PERMISSION LIST\n",
    "for i in range(1,4050):\n",
    "    #Đường dẫn đến tập Manifest\n",
    "    file = \"D:\\Code\\BTL\\BTL_Python\\Train_Data\\malicious\\AndroidManifest(\" + str(i) + \").xml\"\n",
    "    tree = ET.parse(file)\n",
    "    root = tree.getroot()\n",
    "    temp = []\n",
    "    for item in root.iter('uses-permission'):\n",
    "        x = item.get(\"{http://schemas.android.com/apk/res/android}name\")\n",
    "        # Dòng ghi quyền truy cập có dạng android.permission.PERMISSION_NAME\n",
    "        # Dùng hàm split để tách quyền truy cập\n",
    "        x=x.split('.')[-1]\n",
    "        if x not in index_permission : \n",
    "            index_permission[x] = counter\n",
    "            counter += 1\n",
    "        temp.append(x)\n",
    "    if len(temp) != 0 : mal_permission.append(temp)\n",
    "\n",
    "\n"
   ]
  },
  {
   "cell_type": "code",
   "execution_count": null,
   "metadata": {},
   "outputs": [],
   "source": [
    "#BENIGN PERMISSION LIST\n",
    "ben_permission=[]\n",
    "for i in range(1,4780):\n",
    "    try:\n",
    "        file = \"D:\\Code\\BTL\\BTL_Python\\Train_Data\\\\benign\\AndroidManifest(\" + str(i) + \").xml\"\n",
    "        tree = ET.parse(file)\n",
    "        root = tree.getroot()\n",
    "        temp = []\n",
    "        for item in root.iter('uses-permission'):\n",
    "            x = item.get(\"{http://schemas.android.com/apk/res/android}name\")\n",
    "            x=x.split('.')[-1]\n",
    "            if x not in index_permission : \n",
    "                index_permission[x] = counter\n",
    "                counter += 1\n",
    "            temp.append(x)\n",
    "        if len(temp) != 0 : ben_permission.append(temp)\n",
    "    except:\n",
    "        continue"
   ]
  },
  {
   "cell_type": "code",
   "execution_count": null,
   "metadata": {},
   "outputs": [],
   "source": [
    "len(ben_permission), counter,len(mal_permission)"
   ]
  },
  {
   "cell_type": "code",
   "execution_count": null,
   "metadata": {},
   "outputs": [],
   "source": [
    "index_permission"
   ]
  },
  {
   "cell_type": "code",
   "execution_count": null,
   "metadata": {},
   "outputs": [],
   "source": [
    "import numpy as np\n",
    "#creating a structure to input the details of different apps(for input data to insert in different ml algorithms)\n",
    "data = np.array([[0] * (counter+1)]*(len(ben_permission) + len(mal_permission)))\n",
    "data.shape"
   ]
  },
  {
   "cell_type": "code",
   "execution_count": null,
   "metadata": {},
   "outputs": [],
   "source": [
    "#read the list of permission and create input data\n",
    "j=0 #index for data\n",
    "#malicious permissions\n",
    "for i in range(len(mal_permission)):\n",
    "    for k in mal_permission[i]:\n",
    "        index=index_permission[k]\n",
    "        data[j][index]=1\n",
    "    data[j][-1]=1\n",
    "    j+=1\n",
    "#benign permissions\n",
    "for i in range(len(ben_permission)):\n",
    "    for k in ben_permission[i]:\n",
    "        index=index_permission[k]\n",
    "        data[j][index]=1\n",
    "    data[j][-1]=0\n",
    "    j+=1\n",
    "data.shape"
   ]
  },
  {
   "cell_type": "code",
   "execution_count": null,
   "metadata": {},
   "outputs": [],
   "source": [
    "from sklearn import model_selection\n",
    "from sklearn.metrics import accuracy_score\n",
    "x=data[:,0:counter]\n",
    "y=data[:,-1]\n",
    "x,xt,y,yt=model_selection.train_test_split(x,y,random_state=0)\n",
    "x.shape"
   ]
  },
  {
   "cell_type": "code",
   "execution_count": null,
   "metadata": {},
   "outputs": [],
   "source": [
    "from sklearn.ensemble import RandomForestClassifier\n",
    "#BEST ACCURACY\n",
    "clf_random100 = RandomForestClassifier(n_estimators = 123)\n",
    "clf_random100.fit(x,y)\n",
    "y_ran100_p = clf_random100.predict(xt)\n",
    "accuracy_score(yt, y_ran100_p)  "
   ]
  }
 ],
 "metadata": {
  "kernelspec": {
   "display_name": "Python 3",
   "language": "python",
   "name": "python3"
  },
  "language_info": {
   "codemirror_mode": {
    "name": "ipython",
    "version": 3
   },
   "file_extension": ".py",
   "mimetype": "text/x-python",
   "name": "python",
   "nbconvert_exporter": "python",
   "pygments_lexer": "ipython3",
   "version": "3.11.5"
  }
 },
 "nbformat": 4,
 "nbformat_minor": 2
}
